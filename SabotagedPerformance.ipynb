{
  "cells": [
    {
      "cell_type": "code",
      "execution_count": 2,
      "id": "62320eec-ab5d-410f-8227-68560c88c2e1",
      "metadata": {
        "id": "62320eec-ab5d-410f-8227-68560c88c2e1"
      },
      "outputs": [],
      "source": [
        "import numpy as np\n",
        "from numpy import array\n",
        "import pandas as pd\n",
        "import csv\n",
        "from keras.models import Sequential\n",
        "from keras.layers import LSTM\n",
        "from keras.layers import Dense"
      ]
    },
    {
      "cell_type": "code",
      "execution_count": 106,
      "id": "ee1d7344-ac5b-4f84-9999-5e67d6fd6d08",
      "metadata": {
        "id": "ee1d7344-ac5b-4f84-9999-5e67d6fd6d08"
      },
      "outputs": [],
      "source": [
        "PATH = 'hdfs_train.csv'\n",
        "with open(PATH, newline='') as f:\n",
        "    reader = csv.reader(f)\n",
        "    data = list(reader)\n",
        "for i in range(len(data)):\n",
        "    while('' in data[i]):\n",
        "        data[i].remove('')\n"
      ]
    },
    {
      "cell_type": "code",
      "source": [],
      "metadata": {
        "id": "xYlJwjWSGJjH"
      },
      "id": "xYlJwjWSGJjH",
      "execution_count": 84,
      "outputs": []
    },
    {
      "cell_type": "code",
      "execution_count": 108,
      "id": "de9ff063-7293-43a7-b364-39c06d91dbc4",
      "metadata": {
        "colab": {
          "base_uri": "https://localhost:8080/"
        },
        "id": "de9ff063-7293-43a7-b364-39c06d91dbc4",
        "outputId": "68ae78da-93e8-4ec9-cd48-82cf4e39ecea"
      },
      "outputs": [
        {
          "output_type": "stream",
          "name": "stdout",
          "text": [
            "[ 5  5  5 22 11] 9\n",
            "[ 5  5 22 11  9] 11\n",
            "[ 5 22 11  9 11] 9\n",
            "[22 11  9 11  9] 11\n",
            "[11  9 11  9 11] 9\n",
            "[ 9 11  9 11  9] 26\n",
            "[11  9 11  9 26] 26\n",
            "[ 9 11  9 26 26] 26\n",
            "[11  9 26 26 26] 23\n",
            "[ 9 26 26 26 23] 23\n",
            "[26 26 26 23 23] 23\n",
            "[26 26 23 23 23] 21\n",
            "[26 23 23 23 21] 21\n",
            "[23 23 23 21 21] 21\n"
          ]
        }
      ],
      "source": [
        "# split a univariate sequence into samples\n",
        "def split_sequence(sequence, n_steps):\n",
        "    X, y = list(), list()\n",
        "    for i in range(len(sequence)):\n",
        "        # find the end of this pattern\n",
        "        end_ix = i + n_steps\n",
        "        # check if we are beyond the sequence\n",
        "        if end_ix > len(sequence)-1:\n",
        "            break\n",
        "        # gather input and output parts of the pattern\n",
        "        seq_x, seq_y = sequence[i:end_ix], sequence[end_ix]\n",
        "        X.append(seq_x)\n",
        "        y.append(seq_y)\n",
        "    return array(X), array(y)\n",
        "\n",
        "trial = data[0]\n",
        "res = [eval(i) for i in trial]\n",
        "t = [int(i) for i in res]\n",
        "t.pop(0)\n",
        "\n",
        "# choose a number of time steps\n",
        "n_steps = 5\n",
        "# split into samples\n",
        "X, y = split_sequence(t, n_steps)\n",
        "# summarize the data\n",
        "tot = [X,y]\n",
        "for i in range(len(X)):\n",
        "    print(X[i], y[i])"
      ]
    },
    {
      "cell_type": "code",
      "source": [
        "X ,Y = list(), list()\n",
        "for j in range(100):\n",
        "    temp = data[j]\n",
        "    res = [eval(i) for i in temp]\n",
        "    t = [int(i) for i in res]\n",
        "    t.pop(0)\n",
        "    # choose a number of time steps\n",
        "    n_steps = 5\n",
        "    # split into samples\n",
        "    x, y = split_sequence(t, n_steps)\n",
        "    # summarize the data\n",
        "    for i in range(len(x)):\n",
        "        X.insert(i,x[i])\n",
        "        Y.insert(i,y[i])\n",
        "X = array(X)\n",
        "Y = array(Y)\n",
        "print(X[0:100],Y[0:100])"
      ],
      "metadata": {
        "colab": {
          "base_uri": "https://localhost:8080/"
        },
        "id": "LYmbgJOt9TDs",
        "outputId": "c087bae9-ae8d-4b6d-ce6a-18dff78db7f5"
      },
      "id": "LYmbgJOt9TDs",
      "execution_count": 128,
      "outputs": [
        {
          "output_type": "stream",
          "name": "stdout",
          "text": [
            "[[22  5  5  5 11]\n",
            " [ 5  5  5 11  9]\n",
            " [ 5  5 11  9 11]\n",
            " [ 5 11  9 11  9]\n",
            " [11  9 11  9 11]\n",
            " [ 9 11  9 11  9]\n",
            " [11  9 11  9 26]\n",
            " [ 9 11  9 26 26]\n",
            " [11  9 26 26 26]\n",
            " [ 9 26 26 26 23]\n",
            " [26 26 26 23 23]\n",
            " [26 26 23 23 23]\n",
            " [26 23 23 23 21]\n",
            " [23 23 23 21 21]\n",
            " [ 5 22  5  5 11]\n",
            " [22  5  5 11  9]\n",
            " [ 5  5 11  9 26]\n",
            " [ 5 11  9 26 11]\n",
            " [11  9 26 11  9]\n",
            " [ 9 26 11  9 11]\n",
            " [26 11  9 11  9]\n",
            " [11  9 11  9 26]\n",
            " [ 9 11  9 26 26]\n",
            " [11  9 26 26 23]\n",
            " [ 9 26 26 23 23]\n",
            " [26 26 23 23 23]\n",
            " [26 23 23 23 21]\n",
            " [23 23 23 21 21]\n",
            " [ 5  5  5 22 11]\n",
            " [ 5  5 22 11  9]\n",
            " [ 5 22 11  9 11]\n",
            " [22 11  9 11  9]\n",
            " [11  9 11  9 26]\n",
            " [ 9 11  9 26 26]\n",
            " [11  9 26 26 11]\n",
            " [ 9 26 26 11  9]\n",
            " [26 26 11  9 26]\n",
            " [26 11  9 26 23]\n",
            " [11  9 26 23 23]\n",
            " [ 9 26 23 23 23]\n",
            " [26 23 23 23 21]\n",
            " [23 23 23 21 21]\n",
            " [ 5  5  5 22 11]\n",
            " [ 5  5 22 11  9]\n",
            " [ 5 22 11  9 11]\n",
            " [22 11  9 11  9]\n",
            " [11  9 11  9 11]\n",
            " [ 9 11  9 11  9]\n",
            " [11  9 11  9 26]\n",
            " [ 9 11  9 26 26]\n",
            " [11  9 26 26 26]\n",
            " [ 9 26 26 26 23]\n",
            " [26 26 26 23 23]\n",
            " [26 26 23 23 23]\n",
            " [26 23 23 23 21]\n",
            " [23 23 23 21 21]\n",
            " [22  5  5  5 11]\n",
            " [ 5  5  5 11  9]\n",
            " [ 5  5 11  9 11]\n",
            " [ 5 11  9 11  9]\n",
            " [11  9 11  9 11]\n",
            " [ 9 11  9 11  9]\n",
            " [11  9 11  9 26]\n",
            " [ 9 11  9 26 26]\n",
            " [11  9 26 26 26]\n",
            " [ 9 26 26 26 23]\n",
            " [26 26 26 23 23]\n",
            " [26 26 23 23 23]\n",
            " [26 23 23 23 21]\n",
            " [23 23 23 21 21]\n",
            " [ 5  5 22  5 11]\n",
            " [ 5 22  5 11  9]\n",
            " [22  5 11  9 26]\n",
            " [ 5 11  9 26 11]\n",
            " [11  9 26 11  9]\n",
            " [ 9 26 11  9 11]\n",
            " [26 11  9 11  9]\n",
            " [11  9 11  9 26]\n",
            " [ 9 11  9 26 26]\n",
            " [11  9 26 26 23]\n",
            " [ 9 26 26 23 23]\n",
            " [26 26 23 23 23]\n",
            " [26 23 23 23 21]\n",
            " [23 23 23 21 21]\n",
            " [ 5 22  5  5 11]\n",
            " [22  5  5 11  9]\n",
            " [ 5  5 11  9 11]\n",
            " [ 5 11  9 11  9]\n",
            " [11  9 11  9 26]\n",
            " [ 9 11  9 26 26]\n",
            " [11  9 26 26 11]\n",
            " [ 9 26 26 11  9]\n",
            " [26 26 11  9 26]\n",
            " [26 11  9 26 23]\n",
            " [11  9 26 23 23]\n",
            " [ 9 26 23 23 23]\n",
            " [26 23 23 23 21]\n",
            " [23 23 23 21 21]\n",
            " [ 5  5  5 22 11]\n",
            " [ 5  5 22 11  9]] [ 9 11  9 11  9 26 26 26 23 23 23 21 21 21  9 26 11  9 11  9 26 26 23 23\n",
            " 23 21 21 21  9 11  9 26 26 11  9 26 23 23 23 21 21 21  9 11  9 11  9 26\n",
            " 26 26 23 23 23 21 21 21  9 11  9 11  9 26 26 26 23 23 23 21 21 21  9 26\n",
            " 11  9 11  9 26 26 23 23 23 21 21 21  9 11  9 26 26 11  9 26 23 23 23 21\n",
            " 21 21  9 11]\n"
          ]
        }
      ]
    },
    {
      "cell_type": "code",
      "execution_count": 126,
      "id": "3fc66101-b525-47c0-aad9-1ef531e18ee0",
      "metadata": {
        "colab": {
          "base_uri": "https://localhost:8080/"
        },
        "id": "3fc66101-b525-47c0-aad9-1ef531e18ee0",
        "outputId": "edc60158-64c7-46d0-8938-8165be702d06"
      },
      "outputs": [
        {
          "output_type": "stream",
          "name": "stdout",
          "text": [
            "[[12.66738]]\n"
          ]
        }
      ],
      "source": [
        "n_features = 1\n",
        "X = X.reshape((X.shape[0], X.shape[1], n_features))\n",
        "# define model\n",
        "model = Sequential()\n",
        "model.add(LSTM(50, activation='relu', input_shape=(n_steps, n_features)))\n",
        "model.add(Dense(1))\n",
        "model.compile(optimizer='adam', loss='mse')\n",
        "# fit model\n",
        "model.fit(X, Y, epochs=300, verbose=0)\n",
        "# demonstrate prediction\n",
        "x_input = array([22,11,9,11,9])\n",
        "x_input = x_input.reshape((1, n_steps, n_features))\n",
        "yhat = model.predict(x_input, verbose=0)\n",
        "print(yhat)"
      ]
    },
    {
      "cell_type": "code",
      "execution_count": 117,
      "id": "70471e81-4087-4b89-8228-147195dd49f2",
      "metadata": {
        "id": "70471e81-4087-4b89-8228-147195dd49f2"
      },
      "outputs": [],
      "source": []
    },
    {
      "cell_type": "code",
      "execution_count": null,
      "id": "9af57a84-a67c-4210-a25e-f41ce6b568b7",
      "metadata": {
        "id": "9af57a84-a67c-4210-a25e-f41ce6b568b7"
      },
      "outputs": [],
      "source": []
    },
    {
      "cell_type": "code",
      "execution_count": 87,
      "id": "1b7e6688-c38c-4375-967f-8ec211fc6442",
      "metadata": {
        "id": "1b7e6688-c38c-4375-967f-8ec211fc6442"
      },
      "outputs": [],
      "source": []
    },
    {
      "cell_type": "code",
      "execution_count": 87,
      "id": "9f92d89e-7b92-4891-aebf-5c3c52fa2bb3",
      "metadata": {
        "id": "9f92d89e-7b92-4891-aebf-5c3c52fa2bb3"
      },
      "outputs": [],
      "source": []
    }
  ],
  "metadata": {
    "kernelspec": {
      "display_name": "Python 3 (ipykernel)",
      "language": "python",
      "name": "python3"
    },
    "language_info": {
      "codemirror_mode": {
        "name": "ipython",
        "version": 3
      },
      "file_extension": ".py",
      "mimetype": "text/x-python",
      "name": "python",
      "nbconvert_exporter": "python",
      "pygments_lexer": "ipython3",
      "version": "3.10.8"
    },
    "colab": {
      "provenance": []
    }
  },
  "nbformat": 4,
  "nbformat_minor": 5
}